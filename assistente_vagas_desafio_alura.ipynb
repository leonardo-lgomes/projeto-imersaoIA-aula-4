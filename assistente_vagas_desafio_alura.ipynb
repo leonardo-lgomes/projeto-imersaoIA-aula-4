{
  "cells": [
    {
      "cell_type": "markdown",
      "metadata": {
        "id": "view-in-github",
        "colab_type": "text"
      },
      "source": [
        "<a href=\"https://colab.research.google.com/github/leonardo-lgomes/projeto-imersaoIA-aula-4/blob/main/assistente_vagas_desafio_alura.ipynb\" target=\"_parent\"><img src=\"https://colab.research.google.com/assets/colab-badge.svg\" alt=\"Open In Colab\"/></a>"
      ]
    },
    {
      "cell_type": "code",
      "execution_count": null,
      "metadata": {
        "id": "5uPLI8FDWW7t"
      },
      "outputs": [],
      "source": [
        "!pip install -q -U google-generativeai"
      ]
    },
    {
      "cell_type": "code",
      "execution_count": 2,
      "metadata": {
        "id": "-a9Eb8dQWbC7"
      },
      "outputs": [],
      "source": [
        "import google.generativeai as genai\n",
        "import textwrap\n",
        "from IPython.display import display\n",
        "from IPython.display import Markdown\n",
        "from google.colab import userdata\n",
        "api_key = userdata.get(\"SECRET_KEY\")\n",
        "genai.configure(api_key=api_key)"
      ]
    },
    {
      "cell_type": "code",
      "execution_count": 3,
      "metadata": {
        "id": "m_S22EiUWf2a"
      },
      "outputs": [],
      "source": [
        "model = genai.GenerativeModel('gemini-pro')"
      ]
    },
    {
      "cell_type": "code",
      "execution_count": 4,
      "metadata": {
        "id": "b7VuWXJI0iH6"
      },
      "outputs": [],
      "source": [
        "generation_config = {\n",
        "    \"candidate_count\": 1,\n",
        "    \"temperature\": 1\n",
        "}"
      ]
    },
    {
      "cell_type": "code",
      "execution_count": 5,
      "metadata": {
        "id": "LRAbUxhZ0qAH"
      },
      "outputs": [],
      "source": [
        "safety_settings = {\n",
        "    \"HARASSMENT\": \"BLOCK_NONE\",\n",
        "    \"HATE\":\"BLOCK_NONE\",\n",
        "    \"SEXUAL\":\"BLOCK_NONE\",\n",
        "    \"DANGEOURS\":\"BLOCK_NONE\"\n",
        "}"
      ]
    },
    {
      "cell_type": "code",
      "execution_count": 6,
      "metadata": {
        "id": "HKQO36X31TWG"
      },
      "outputs": [],
      "source": [
        "model = genai.GenerativeModel(model_name=\"gemini-1.0-pro\", generation_config=generation_config)"
      ]
    },
    {
      "cell_type": "code",
      "execution_count": 7,
      "metadata": {
        "id": "yA1Ly2iv47Hc"
      },
      "outputs": [],
      "source": [
        "chat = model.start_chat(history=[])"
      ]
    },
    {
      "cell_type": "code",
      "execution_count": 9,
      "metadata": {
        "colab": {
          "base_uri": "https://localhost:8080/",
          "height": 535
        },
        "id": "6dCHo-ae50O7",
        "outputId": "80ba39ae-8a98-40e5-d297-258a8b90adbe"
      },
      "outputs": [
        {
          "name": "stdout",
          "output_type": "stream",
          "text": [
            "Por favor digite sua senioridade: senior\n",
            "Por favor digite sua área de atuação: advogado\n",
            "Por favor digite onde você deseja encontrar o emprego: são paulo\n",
            "Por favor digite as habilidades que você gostaria de procura na vaga, separadas por vírgula: comunicativo\n"
          ]
        },
        {
          "output_type": "display_data",
          "data": {
            "text/plain": [
              "<IPython.core.display.Markdown object>"
            ],
            "text/markdown": "> **Vagas de Advogado Sênior com Habilidade em Comunicação em São Paulo**\n> \n> | Nome da Vaga | Empresa Contratante | Descrição | Local da Vaga | Contato |\n> |---|---|---|---|---|\n> | Advogado Sênior | Pinheiro Neto Advogados | Responsável por gerenciar processos complexos, elaborar pareceres jurídicos e representar clientes em tribunais. Atua em litígios cíveis, empresariais e tributários. | São Paulo, SP | [Clique aqui para se candidatar](www.pinheironeto.com.br/vagas) |\n> | Advogado Sênior Contencioso | Mattos Filho, Veiga Filho, Marrey Jr. e Quiroga Advogados | Advogado litigante com experiência em contencioso cível, empresarial e tributário. Responsável por coordenar equipes, elaborar estratégias e representar clientes em todas as instâncias. | São Paulo, SP | [Clique aqui para se candidatar](www.mfvm.com.br/vagas) |\n> | Advogado Sênior Trabalhista | Veirano Advogados | Atua na defesa de empresas em processos trabalhistas. Responsável por elaborar defesas, conduzir negociações e representar clientes em tribunais. | São Paulo, SP | [Clique aqui para se candidatar](www.veirano.com.br/vagas) |\n> | Advogado Sênior Regulatório | BMA Advogados | Focado em direito regulatório, atua na assessoria a empresas em questões relacionadas à Anatel, Anp e outros órgãos reguladores. Responsável por elaborar pareceres, representações e conduzir negociações. | São Paulo, SP | [Clique aqui para se candidatar](www.bma.com.br/vagas) |\n> | Advogado Sênior Fusões e Aquisições | Lefosse Advogados | Atua em transações de fusões e aquisições, private equity e venture capital. Responsável por due diligences, elaboração de contratos e assessoria estratégica. | São Paulo, SP | [Clique aqui para se candidatar](www.lefosse.com.br/vagas) |"
          },
          "metadata": {}
        }
      ],
      "source": [
        "resposta_senioridade = input(\"Por favor digite sua senioridade: \")\n",
        "resposta_area_atuacao = input(\"Por favor digite sua área de atuação: \")\n",
        "resposta_localizacao = input(\"Por favor digite onde você deseja encontrar o emprego: \")\n",
        "resposta_habilidades = input(\"Por favor digite as habilidades que você gostaria de procura na vaga, separadas por vírgula: \")\n",
        "\n",
        "prompt = (\"Olá, me ajude a procurar vagas de \"\n",
        "            + resposta_senioridade + \" na área de \" + resposta_area_atuacao + \" em \" + resposta_localizacao +\n",
        "            \", Gostaria que filtrasse pelas habilidades a seguir: \"+ resposta_habilidades + \". Por favor siga o formato a seguir inlcuindo um separador para cada vaga: Nome da vaga, Empresa contratante, Descrição, Local da vaga, Contato. Me mostre vagas reais e em formato de tabela\")\n",
        "\n",
        "response = chat.send_message(prompt)\n",
        "\n",
        "def to_markdown(text):\n",
        "  text = text.replace('•', '  *')\n",
        "  return Markdown(textwrap.indent(text, '> ', predicate=lambda _: True))\n",
        "\n",
        "display(to_markdown(f'{chat.history[-1].parts[0].text}'))\n"
      ]
    },
    {
      "cell_type": "code",
      "source": [],
      "metadata": {
        "id": "74aaJQUVwQUa"
      },
      "execution_count": null,
      "outputs": []
    }
  ],
  "metadata": {
    "colab": {
      "provenance": [],
      "authorship_tag": "ABX9TyOJITO1nw5Q3PnSNGzuLbf1",
      "include_colab_link": true
    },
    "kernelspec": {
      "display_name": "Python 3",
      "name": "python3"
    },
    "language_info": {
      "name": "python"
    }
  },
  "nbformat": 4,
  "nbformat_minor": 0
}